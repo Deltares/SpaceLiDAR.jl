{
 "cells": [
  {
   "cell_type": "markdown",
   "id": "af43abc6",
   "metadata": {},
   "source": [
    "# SpaceLiDAR.jl\n",
    "A toolbox to process"
   ]
  },
  {
   "cell_type": "code",
   "execution_count": 1,
   "id": "19f704ee",
   "metadata": {},
   "outputs": [],
   "source": [
    "import Pkg; Pkg.status()"
   ]
  },
  {
   "cell_type": "code",
   "execution_count": 2,
   "id": "3ccd7713",
   "metadata": {},
   "outputs": [],
   "source": [
    "using Revise\n",
    "using SpaceLiDAR\n",
    "using GeoDataFrames\n",
    "using LazIO\n",
    "using Displaz"
   ]
  },
  {
   "cell_type": "code",
   "execution_count": 3,
   "id": "58a04a55",
   "metadata": {},
   "outputs": [
    {
     "data": {
      "text/plain": [
       "SpaceLiDAR.ICESat2_Granule{:ATL08}(\"ATL08_20181016201816_02780107_004_01.h5\", \"https://n5eil01u.ecs.nsidc.org/DP9/ATLAS/ATL08.004/2018.10.16/ATL08_20181016201816_02780107_004_01.h5\", NamedTuple(), (type = :ATL08, date = Dates.DateTime(\"2018-10-16T20:18:16\"), rgt = 278, cycle = 1, segment = 7, version = 4, revision = 1, ascending = false, descending = true))"
      ]
     },
     "execution_count": 3,
     "metadata": {},
     "output_type": "execute_result"
    }
   ],
   "source": [
    "vietnam = (min_x = 102., min_y = 8.0, max_x = 107.0, max_y = 12.0)\n",
    "granules = find(:ICESat2, \"ATL08\", vietnam, \"004\")\n",
    "\n",
    "# A granule is pretty simple\n",
    "granule = granules[1]"
   ]
  },
  {
   "cell_type": "code",
   "execution_count": 4,
   "id": "a54c7981",
   "metadata": {},
   "outputs": [
    {
     "ename": "LoadError",
     "evalue": "UndefVarError: download! not defined",
     "output_type": "error",
     "traceback": [
      "UndefVarError: download! not defined",
      "",
      "Stacktrace:",
      " [1] getproperty(x::Module, f::Symbol)",
      "   @ Base ./Base.jl:26",
      " [2] top-level scope",
      "   @ In[4]:1",
      " [3] eval",
      "   @ ./boot.jl:360 [inlined]",
      " [4] include_string(mapexpr::typeof(REPL.softscope), mod::Module, code::String, filename::String)",
      "   @ Base ./loading.jl:1094"
     ]
    }
   ],
   "source": [
    "SpaceLiDAR.download!(granules[4])\n",
    "granule"
   ]
  },
  {
   "cell_type": "code",
   "execution_count": 5,
   "id": "564556e2",
   "metadata": {},
   "outputs": [
    {
     "ename": "LoadError",
     "evalue": "unable to determine if https://n5eil01u.ecs.nsidc.org/DP9/ATLAS/ATL08.004/2018.10.16/ATL08_20181016201816_02780107_004_01.h5 is accessible in the HDF5 format (file may not exist)",
     "output_type": "error",
     "traceback": [
      "unable to determine if https://n5eil01u.ecs.nsidc.org/DP9/ATLAS/ATL08.004/2018.10.16/ATL08_20181016201816_02780107_004_01.h5 is accessible in the HDF5 format (file may not exist)",
      "",
      "Stacktrace:",
      " [1] error(s::String)",
      "   @ Base ./error.jl:33",
      " [2] h5open(filename::String, mode::String; swmr::Bool, pv::Base.Iterators.Pairs{Union{}, Union{}, Tuple{}, NamedTuple{(), Tuple{}}})",
      "   @ HDF5 ~/.julia/packages/HDF5/VJkAi/src/HDF5.jl:430",
      " [3] h5open(::SpaceLiDAR.var\"#56#57\"{NTuple{6, String}, Int64, Bool, Bool, SpaceLiDAR.ICESat2_Granule{:ATL08}, Vector{NamedTuple}}, ::String, ::Vararg{String, N} where N; swmr::Bool, pv::Base.Iterators.Pairs{Union{}, Union{}, Tuple{}, NamedTuple{(), Tuple{}}})",
      "   @ HDF5 ~/.julia/packages/HDF5/VJkAi/src/HDF5.jl:456",
      " [4] h5open",
      "   @ ~/.julia/packages/HDF5/VJkAi/src/HDF5.jl:456 [inlined]",
      " [5] #points#55",
      "   @ ~/code/SpaceLiDAR/src/ICESat-2/ATL08.jl:3 [inlined]",
      " [6] points(granule::SpaceLiDAR.ICESat2_Granule{:ATL08})",
      "   @ SpaceLiDAR ~/code/SpaceLiDAR/src/ICESat-2/ATL08.jl:2",
      " [7] top-level scope",
      "   @ In[5]:1",
      " [8] eval",
      "   @ ./boot.jl:360 [inlined]",
      " [9] include_string(mapexpr::typeof(REPL.softscope), mod::Module, code::String, filename::String)",
      "   @ Base ./loading.jl:1094"
     ]
    }
   ],
   "source": [
    "points(granule)"
   ]
  },
  {
   "cell_type": "code",
   "execution_count": null,
   "id": "b9b59758",
   "metadata": {},
   "outputs": [],
   "source": []
  }
 ],
 "metadata": {
  "kernelspec": {
   "display_name": "Julia 1.6.1",
   "language": "julia",
   "name": "julia-1.6"
  },
  "language_info": {
   "file_extension": ".jl",
   "mimetype": "application/julia",
   "name": "julia",
   "version": "1.6.1"
  }
 },
 "nbformat": 4,
 "nbformat_minor": 5
}
